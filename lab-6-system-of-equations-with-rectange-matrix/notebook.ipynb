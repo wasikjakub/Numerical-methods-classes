{
 "cells": [
  {
   "cell_type": "markdown",
   "metadata": {},
   "source": [
    "# <center>Rozwiązywanie układów równań</center>"
   ]
  },
  {
   "cell_type": "markdown",
   "metadata": {},
   "source": [
    "Instrukcja:\n",
    "Na zajęciach należy wykonać poniższe zadania, a następnie sporządzić sprawozdanie zawierające odpowiedzi (w postaci kodu) z komentarzami w środowisku Jupyter Notebook i umieścić je na platformie e-learningowej.   "
   ]
  },
  {
   "cell_type": "code",
   "execution_count": 2,
   "metadata": {},
   "outputs": [],
   "source": [
    "import main\n",
    "import scipy as sp\n",
    "import numpy as np\n",
    "import matplotlib\n",
    "import matplotlib.pyplot as plt"
   ]
  },
  {
   "cell_type": "markdown",
   "metadata": {},
   "source": [
    "**Cel zajęć:** Celem zajęć jest zapoznanie się z numerycznymi metodami rozwiązywania układów równań liniowych w postaci macierzowej, z rzadkimi macierzami prostokątnymi. Czyli dana jest macierz $\\mathbf{A}$ prostokątna o wymiarach ($m\\times n$) i [rzadka](https://pl.wikipedia.org/wiki/Macierz_rzadka) oraz wektor $\\mathbf{b}$ ($m\\times 1$), należy rozwiązać układ równań postaci:    \n",
    "$\n",
    "\\mathbf{Ax}=\\mathbf{b}\n",
    "$ \n",
    "  \n",
    "gdzie $\\mathbf{A}$ to macierz współczynników z lewej strony równania, wektor $\\mathbf{x}$ jest wektorem zmiennych a wektor $\\mathbf{b}$ wyników prawej strony równania.  \n",
    "\n",
    "Do oceny jakości rozwiązania będziemy wykorzystywać residuum (ang. *residual*)\n",
    "$\n",
    "\\mathbf{r}=\\mathbf{b}-\\mathbf{Ax}\n",
    "$ \n",
    "  "
   ]
  },
  {
   "cell_type": "markdown",
   "metadata": {},
   "source": [
    "***Zadanie 1***   \n",
    "Dane jest $m = 50$ oraz $n = 12$. Zdefiniuję funkcję *spare_matrixAbt*, która zwróci:\n",
    "- wektor $\\mathbf{t}$ typu $m\\times 1$ za pomocą komendy linspace tak aby wartości tego wektora należay do przedzaiłu $[0,1]$,\n",
    "- wektor $\\mathbf{b}$ typu $m \\times 1$, którego wartości dane są funkcją $\\cos(4t)$ oraz\n",
    "- macierz $\\mathbf{A}$ postaci: \n",
    "$$\n",
    "\\left[\\begin{matrix}\n",
    "1 & t_0 & t_{0}^{2} & \\cdots & t_{0}^{n-1} \\\\\n",
    "1 & t_1 & t_{1}^{2} & \\cdots & t_{1}^{n-1} \\\\\n",
    "1 & t_2 & t_{2}^{2} & \\cdots & t_{2}^{n-1} \\\\\n",
    "\\vdots & \\cdots & \\ddots & \\cdots & \\vdots \\\\\n",
    "1 & t_{m-1} & t_{m-1}^{2} & \\cdots & t_{m-1}^{n-1} \n",
    "\\end{matrix}\\right]\n",
    "$$  \n",
    "  \n",
    "**Wskazówka**: Do definicji macierzy $\\mathbf{A}$ należy użyć funkcji [vander](https://docs.scipy.org/doc/numpy-1.13.0/reference/generated/numpy.vander.html) oraz [fliplr](https://docs.scipy.org/doc/numpy-1.15.0/reference/generated/numpy.fliplr.html).  \n",
    " \n",
    "  \n",
    "Rozwiąż układ równań $\\mathbf{Ax}=\\mathbf{b}$ postaci:\n",
    "$$\n",
    "\\left[\\begin{matrix}\n",
    "1 & t_0 & t_{0}^{2} & \\cdots & t_{0}^{n-1} \\\\\n",
    "1 & t_1 & t_{1}^{2} & \\cdots & t_{1}^{n-1} \\\\\n",
    "1 & t_2 & t_{2}^{2} & \\cdots & t_{2}^{n-1} \\\\\n",
    "\\vdots & \\cdots & \\ddots & \\cdots & \\vdots \\\\\n",
    "1 & t_{m-1} & t_{m-1}^{2} & \\cdots & t_{m-1}^{n-1} \n",
    "\\end{matrix}\\right]\n",
    "\\left[\\begin{matrix}\n",
    "x_0\\\\\n",
    "x_1\\\\\n",
    "x_2\\\\\n",
    "\\vdots\\\\\n",
    "x_{n-1}\n",
    "\\end{matrix}\\right] =\n",
    "\\left[\\begin{matrix}\n",
    "b_0\\\\\n",
    "b_1\\\\\n",
    "b_2\\\\\n",
    "\\vdots\\\\\n",
    "b_{m-1}\n",
    "\\end{matrix}\\right]\n",
    "$$ \n",
    "za pomocą następujacych metod:\n",
    "\n",
    "1. Przekształcenia układu równań do postaci: $\\mathbf{A}^{\\mathrm{T}}\\mathbf{Ax}=\\mathbf{A}^{\\mathrm{T}}\\mathbf{b}$ (zdefinuj funkcję *square_from_rectan* która przekształci odpowiednio macierz A i wektor b)  i stosując funkcję solve, z poprzednich zajęć.\n",
    "2. Domyślnej metody Pythona rozwiązywania układów równań z macierzą prostokątną [lstsq](https://docs.scipy.org/doc/numpy-1.13.0/reference/generated/numpy.linalg.lstsq.html#numpy-linalg-lstsq).  \n",
    "3. Rozkładu QR rozwiązywania układów równań podanego na wykładzie. Do dokonania rozkładu QR w Pythonie używa się funkcji [qr](https://docs.scipy.org/doc/numpy-1.15.1/reference/generated/numpy.linalg.qr.html), natomiast do rozwiązywania układu równań z macierzą trójkątną służy funkcja [solve_triangular](https://docs.scipy.org/doc/scipy/reference/generated/scipy.linalg.solve_triangular.html)\n",
    "4. Metody rozkładu SVD rozwiązywania układów równań podanego na wykładzie.\n",
    "5. Porównaj czasy wykonania wszystkich metod oraz zużycie pamięci.\n",
    "6. Porównaj jakość otrzymanych wyników"
   ]
  },
  {
   "cell_type": "code",
   "execution_count": 3,
   "metadata": {},
   "outputs": [],
   "source": [
    "#print(main.spare_matrix_Abt(50, 12))"
   ]
  },
  {
   "cell_type": "code",
   "execution_count": 16,
   "metadata": {},
   "outputs": [
    {
     "name": "stdout",
     "output_type": "stream",
     "text": [
      "Metoda 1:\n",
      "3.145518701857381e-14\n",
      "Metoda 2:\n",
      "7.999154656712961e-09\n",
      "Metoda 3:\n",
      "1.023675029891333e-15\n",
      "Metoda 4:\n",
      "7.999155225137596e-09\n"
     ]
    }
   ],
   "source": [
    "from scipy.linalg import solve_triangular\n",
    "\n",
    "A, b = main.spare_matrix_Abt(50, 12)\n",
    "\n",
    "#Metoda 1\n",
    "print('Metoda 1:')\n",
    "A1, b1 = main.square_from_rectan(A, b)\n",
    "x1 = np.linalg.solve(A1, b1)\n",
    "print(main.residual_norm(A1, x1, b1))\n",
    "\n",
    "#Metoda 2\n",
    "print('Metoda 2:')\n",
    "x2 = np.linalg.lstsq(A, b, rcond=1)[0]\n",
    "print(main.residual_norm(A, x2, b))\n",
    "\n",
    "#Metoda 3\n",
    "print('Metoda 3:')\n",
    "q, r = np.linalg.qr(A, mode='reduced')\n",
    "x3 = sp.linalg.solve_triangular(r, q.T @ b)\n",
    "print(main.residual_norm(r, x3, q.T @b))\n",
    "\n",
    "#Metoda 4\n",
    "print('Metoda 4:')\n",
    "\n",
    "u, s, vh = np.linalg.svd(A, full_matrices=False)\n",
    "S = np.diag(s)\n",
    "c= vh.T @ np.linalg.solve(S, u.T @ b)\n",
    "print(main.residual_norm(A, c, b))"
   ]
  },
  {
   "cell_type": "code",
   "execution_count": 5,
   "metadata": {},
   "outputs": [
    {
     "name": "stdout",
     "output_type": "stream",
     "text": [
      "164 µs ± 6.88 µs per loop (mean ± std. dev. of 7 runs, 10000 loops each)\n"
     ]
    }
   ],
   "source": [
    "%%timeit\n",
    "#Metoda 1\n",
    "#print('Metoda 1:')\n",
    "A1, b1 = main.square_from_rectan(A, b)\n",
    "x1 = np.linalg.solve(A1, b1)\n",
    "(main.residual_norm(A1, x1, b1))"
   ]
  },
  {
   "cell_type": "code",
   "execution_count": 6,
   "metadata": {},
   "outputs": [
    {
     "name": "stdout",
     "output_type": "stream",
     "text": [
      "99 µs ± 1.58 µs per loop (mean ± std. dev. of 7 runs, 10000 loops each)\n"
     ]
    }
   ],
   "source": [
    "%%timeit\n",
    "#Metoda 2\n",
    "#print('Metoda 2:')\n",
    "x2 = np.linalg.lstsq(A, b, rcond=1)[0]\n",
    "(main.residual_norm(A, x2, b))"
   ]
  },
  {
   "cell_type": "code",
   "execution_count": 7,
   "metadata": {},
   "outputs": [
    {
     "name": "stdout",
     "output_type": "stream",
     "text": [
      "139 µs ± 2.91 µs per loop (mean ± std. dev. of 7 runs, 10000 loops each)\n"
     ]
    }
   ],
   "source": [
    "%%timeit\n",
    "#Metoda 3\n",
    "#print('Metoda 3:')\n",
    "q, r = np.linalg.qr(A, mode='reduced')\n",
    "x3 = sp.linalg.solve_triangular(r, q.T @ b)\n",
    "(main.residual_norm(r, x3, q.T @b))"
   ]
  },
  {
   "cell_type": "code",
   "execution_count": 17,
   "metadata": {},
   "outputs": [
    {
     "name": "stdout",
     "output_type": "stream",
     "text": [
      "255 µs ± 8.88 µs per loop (mean ± std. dev. of 7 runs, 1000 loops each)\n"
     ]
    }
   ],
   "source": [
    "%%timeit\n",
    "#print('Metoda 4:')\n",
    "u, s, vh = np.linalg.svd(A, full_matrices=False)\n",
    "S = np.diag(s)\n",
    "c= vh.T @ np.linalg.solve(S, u.T @ b)\n",
    "(main.residual_norm(A, c, b))"
   ]
  },
  {
   "cell_type": "markdown",
   "metadata": {},
   "source": [
    "***Zadanie 2***  \n",
    "\n",
    "1. Przy użyciu funkcji [random.normal](https://numpy.org/doc/stable/reference/random/generated/numpy.random.normal.html) wygeneruj dwa wektory $\\mathbf{x}_1$ oraz $\\mathbf{x}_2$ o wymiarze (100,1) o wartości średniej równej 0 oraz odchyleniu standardowemu równego 1.\n",
    "\n",
    "2. Na podstawie uzyskanych wektorów wylicz wartości wektora $y$ danego wzorem:\n",
    "$$\n",
    "    y=2+x1-0.5x2+\\epsilon\n",
    "$$\n",
    "gdzie $\\epsilon$ jest wektorem wartości losowtch o wartości średniej równej 0 oraz odchyleniu standardowemu równego 1.\n",
    "\n",
    "3. Przy pomocy funkcji [concatenate](https://numpy.org/doc/stable/reference/generated/numpy.concatenate.html) połącz wektor samych jedynek o wymiarze (100,1) z:\n",
    "\n",
    "- $x_1$,\n",
    "- $x_2$,\n",
    "- $x_1$ i $x_2$\n",
    "\n",
    "z parametrem *axis = 1*.\n",
    "\n",
    "4. Na podstawie macierzy z punktu 3 oblicz współczynniki [regresji liniowych](https://pl.wikipedia.org/wiki/Regresja_liniowa) z wykorzystaniem rozkładu QR, opisanych zależnościami:\n",
    "\n",
    "    1. $y\\sim a+x_1$\n",
    "    2. $y\\sim a+x_2$\n",
    "    3. $y\\sim a+x_1+x_2$\n",
    "    4. $y\\sim a+x_2+x_2$\n",
    "\n",
    "5. Przedstaw otrzymane wyniki na odpowiednich subplotach."
   ]
  },
  {
   "cell_type": "code",
   "execution_count": 49,
   "metadata": {},
   "outputs": [
    {
     "name": "stdout",
     "output_type": "stream",
     "text": [
      "1:\n"
     ]
    },
    {
     "data": {
      "text/plain": [
       "[<matplotlib.lines.Line2D at 0x2282eeb0c70>]"
      ]
     },
     "execution_count": 49,
     "metadata": {},
     "output_type": "execute_result"
    },
    {
     "data": {
      "image/png": "[encoded data removed]",
      "text/plain": [
       "<Figure size 432x288 with 1 Axes>"
      ]
     },
     "metadata": {
      "needs_background": "light"
     },
     "output_type": "display_data"
    }
   ],
   "source": [
    "#Zad 5\n",
    "#1)\n",
    "print('1:')\n",
    "q, r = np.linalg.qr(ad_1)\n",
    "c = sp.linalg.solve_triangular(r, q.T @ y)\n",
    "pred1=[min(x1), max(x1)]\n",
    "y1 = c[0] + c[1] * pred1\n",
    "\n",
    "plt.scatter(x1, y)\n",
    "plt.plot(pred1, y1, 'r')"
   ]
  },
  {
   "cell_type": "code",
   "execution_count": 51,
   "metadata": {},
   "outputs": [
    {
     "name": "stdout",
     "output_type": "stream",
     "text": [
      "2:\n"
     ]
    },
    {
     "data": {
      "text/plain": [
       "[<matplotlib.lines.Line2D at 0x2282ef957f0>]"
      ]
     },
     "execution_count": 51,
     "metadata": {},
     "output_type": "execute_result"
    },
    {
     "data": {
      "image/png": "[encoded data removed]",
      "text/plain": [
       "<Figure size 432x288 with 1 Axes>"
      ]
     },
     "metadata": {
      "needs_background": "light"
     },
     "output_type": "display_data"
    }
   ],
   "source": [
    "\n",
    "#2)\n",
    "print('2:')\n",
    "q, r = np.linalg.qr(ad_2)\n",
    "c = sp.linalg.solve_triangular(r, q.T @ y)\n",
    "pred2=[min(x1), max(x1)]\n",
    "y2 = c[0] + c[1] * pred1\n",
    "\n",
    "plt.scatter(x2, y)\n",
    "plt.plot(pred1, y2, 'r')"
   ]
  },
  {
   "cell_type": "code",
   "execution_count": null,
   "metadata": {},
   "outputs": [],
   "source": [
    "\n",
    "#3)\n",
    "print('3:')\n"
   ]
  },
  {
   "cell_type": "code",
   "execution_count": null,
   "metadata": {},
   "outputs": [],
   "source": [
    "\n",
    "#4)\n",
    "print('4:')"
   ]
  },
  {
   "cell_type": "markdown",
   "metadata": {},
   "source": [
    "Materiały uzupełniające:\n",
    "- [Scipy Lecture Notes](http://www.scipy-lectures.org/index.html)\n",
    "- [NumPy for Matlab users](https://docs.scipy.org/doc/numpy/user/numpy-for-matlab-users.html#numpy-for-matlab-users)\n",
    "- [Python Tutorial - W3Schools](https://www.w3schools.com/python/default.asp)\n",
    "- [NumPy](https://www.numpy.org)\n",
    "- [Matplotlib](https://matplotlib.org/)\n",
    "- [Anaconda](https://www.anaconda.com/)\n",
    "- [Learn Python for Data Science](https://www.datacamp.com/learn-python-with-anaconda?utm_source=Anaconda_download&utm_campaign=datacamp_training&utm_medium=banner)\n",
    "- [Learn Python](https://www.learnpython.org/)\n",
    "- [Wujek Google](https://google.pl) i [Ciocia Wikipedia](https://pl.wikipedia.org/wiki/Wikipedia:Strona_g%C5%82%C3%B3wna)"
   ]
  }
 ],
 "metadata": {
  "interpreter": {
   "hash": "4f439f54000aac12576396226848bc0cfebd1b4e45a8747663ceeee7e3c8f8f6"
  },
  "kernelspec": {
   "display_name": "Python 3.9.9 64-bit (windows store)",
   "name": "python3"
  },
  "language_info": {
   "codemirror_mode": {
    "name": "ipython",
    "version": 3
   },
   "file_extension": ".py",
   "mimetype": "text/x-python",
   "name": "python",
   "nbconvert_exporter": "python",
   "pygments_lexer": "ipython3",
   "version": "3.9.9"
  }
 },
 "nbformat": 4,
 "nbformat_minor": 2
}
