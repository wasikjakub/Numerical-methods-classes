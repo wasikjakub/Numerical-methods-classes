{
 "cells": [
  {
   "cell_type": "markdown",
   "metadata": {},
   "source": [
    "# <center>Rozwiązywanie układów równań</center>\n",
    "# <center>Metody iteracyjne</center>"
   ]
  },
  {
   "cell_type": "markdown",
   "metadata": {},
   "source": [
    "Instrukcja:\n",
    "Na zajęciach należy wykonać poniższe zadania, a następnie sporządzić sprawozdanie zawierające odpowiedzi (w postaci kodu) z komentarzami w środowisku Jupyter Notebook i umieścić je na platformie e-learningowej.   "
   ]
  },
  {
   "cell_type": "code",
   "execution_count": 43,
   "metadata": {},
   "outputs": [
    {
     "name": "stdout",
     "output_type": "stream",
     "text": [
      "The memory_profiler extension is already loaded. To reload it, use:\n",
      "  %reload_ext memory_profiler\n"
     ]
    }
   ],
   "source": [
    "import main\n",
    "import scipy as sp\n",
    "import numpy as np\n",
    "import scipy.sparse.linalg as sp_linalg\n",
    "import numpy.linalg as np_linalg\n",
    "import matplotlib\n",
    "import matplotlib.pyplot as plt\n",
    "%load_ext memory_profiler"
   ]
  },
  {
   "cell_type": "markdown",
   "metadata": {},
   "source": [
    "**Cel zajęć:**  \n",
    "Celem zajęć jest zapoznanie się z iteracyjnymi metodami rozwiązywania układów równań liniowych w postaci macierzowej. Metody iteracyjne, w przeciwieństwie do analitycznych, nie zwracają dokładnego rozwiązania, a jedynie jego przybliżenie. Przy spełnionych kryteriach, przybliżenia obliczane w kolejnych iteracjach są zbieżne do dokładnego rozwiązania. Metody iteracyjne znajdują swoje zastosowanie szczególnie przy dużych układach równań postaci: \n",
    "   \n",
    "$\n",
    "\\mathbf{Ax}=\\mathbf{b}\n",
    "$ \n",
    "  \n",
    "gdzie $\\mathbf{A}$ to macierz współczynników z lewej strony równania, wektor $\\mathbf{x}$ jest wektorem zmiennych a wektor $\\mathbf{b}$ wyników prawej strony równania.  \n",
    "\n",
    "Do oceny jakości rozwiązania będziemy wykorzystywać residuum (ang. *residual*)\n",
    "$\n",
    "\\mathbf{r}=\\mathbf{b}-\\mathbf{Ax}\n",
    "$ \n",
    "  "
   ]
  },
  {
   "cell_type": "markdown",
   "metadata": {},
   "source": [
    "***Zadanie 1***   \n",
    "Zdefiniuję funkcję *diag_dominant_matrix_A_b*, przyjmującą paramter całkowity $m>0$ która zwróci:\n",
    "- macierz diagonalnie zdominowana $\\mathbf{A}$ o wymiarach $m \\times m$ (wyrazy na przekątnej sa wieksze co do modułu od sumy pozostałych w danej kolumnie i wierszu)\n",
    "- wektor $\\mathbf{b}$ o wymiarach $m \\times 1$ \n",
    " \n",
    "o losowych wartościach całkowitych\n",
    "\n",
    "Dodatkowo zdefiniuj funkcje *is_diag_dominant* sprawdzającą czy zadana macierz jest diagonalnie zdominowana"
   ]
  },
  {
   "cell_type": "markdown",
   "metadata": {},
   "source": [
    "***Zadanie 2***   \n",
    "Zdefiniuję funkcję *symmetric_matrix_A_b*, przyjmującą paramter całkowity $m>0$ która zwróci:\n",
    "- symetryczną macierz $\\mathbf{A}$ o wymiarach $m \\times m$ (wyrazy symetryczne względnej przekątnej są sobie równe)\n",
    "- wektor $\\mathbf{b}$ o wymiarach $m \\times 1$ \n",
    " \n",
    "o losowych wartościach całkowitych\n",
    "\n",
    "Dodatkowo zdefiniuj funkcje is_symmetric sprawdzającą czy zadana macierz jest symetryczna"
   ]
  },
  {
   "cell_type": "markdown",
   "metadata": {},
   "source": [
    "***Zadanie 3***   \n",
    "Zdefiniuję następujące układy równań:\n",
    "\n",
    "a) $\\mathbf{A_1}$, $\\mathbf{b_1}$: gdzie $\\mathbf{A_1}$ jest macierzą o wymiarach $m \\times m$, a $\\mathbf{b_1}$ wektorem $m \\times 1$, $m = 10$\n",
    "\n",
    "b) $\\mathbf{A_2}$, $\\mathbf{b_2}$: gdzie $\\mathbf{A_2}$ jest macierzą **diagonalnie zdominowaną** o wymiarach$m \\times m$, a $\\mathbf{b_2}$ wektorem $m \\times 1$, $m = 10$\n",
    " \n",
    "c) $\\mathbf{A_3}$, $\\mathbf{b_3}$: gdzie $\\mathbf{A_3}$ jest macierzą **symetryczną** o wymiarach $m \\times m$, a $\\mathbf{b_3}$ wektorem $m \\times 1$, $m = 10$   \n",
    " \n",
    "**Wskazówka**: Do generacji macierzy użyj metody *random_matrix_Ab* z lab6 oraz metod *diag_dominant_matrix_A_b* i *symmetric_matrix_A_b*"
   ]
  },
  {
   "cell_type": "code",
   "execution_count": 44,
   "metadata": {},
   "outputs": [],
   "source": [
    "# a)\n",
    "A1, b1 = main.random_matrix_Ab(10)\n",
    "# b)\n",
    "A2, b2 = main.diag_dominant_matrix_A_b(10)\n",
    "# c)\n",
    "A3, b3 = main.symmetric_matrix_A_b(10)"
   ]
  },
  {
   "cell_type": "markdown",
   "metadata": {},
   "source": [
    "***Zadanie 4***   \n",
    "Zaimplementuj iteracyjną metodę *solve_jacobi*, rozwiązującą układ równań metodą Jacobiego zgodnie z dokumentacją w pliku *main.py*.\n",
    "Szczegóły metody zostały przedstawione na wykładzie."
   ]
  },
  {
   "cell_type": "markdown",
   "metadata": {},
   "source": [
    "***Zadanie 5***   \n",
    "Rozwiąż układ równań z Zadania 3 podpunkt a) przy pomocy:\n",
    "\n",
    "- funkcji *[solve](https://docs.scipy.org/doc/numpy-1.15.1/reference/generated/numpy.linalg.solve.html?highlight=solve#numpy.linalg.solve)* z biblioteki numpy\n",
    "\n",
    "- zaimplementowanej iteracyjnej metody *solve_jacobi*\n",
    "\n",
    "- iteracyjnej metody *[gradientów sprzężonych](https://docs.scipy.org/doc/scipy/reference/generated/scipy.sparse.linalg.cg.html)*\n",
    " z biblioteki scipy\n",
    "\n",
    "- iteracyjnej metody *[GMRES](https://docs.scipy.org/doc/scipy/reference/generated/scipy.sparse.linalg.gmres.html)*\n",
    " z biblioteki scipy\n",
    "\n",
    "Przed każdą metodą sprawdź czy warunki dotyczące macierzy dla danej metody są spełnione. Zbadaj dokładność i czas obliczeń metod w zależności od liczby iteracji. Wyniki przedstaw na wykresach."
   ]
  },
  {
   "cell_type": "code",
   "execution_count": 45,
   "metadata": {},
   "outputs": [
    {
     "name": "stdout",
     "output_type": "stream",
     "text": [
      "[ 11.60552536  -5.32173533  -5.50194254  -0.46312403   1.38861257\n",
      "  14.78869154   3.43248429  -0.99788445  -0.94198831 -15.74548709]\n",
      "nie można użyć tej metody, gdyż macierz nie jest diagonalna\n",
      "nie można użyć tej metody, gdyż macierz nie jest symetryczna\n",
      "(array([ 11.60552536,  -5.32173533,  -5.50194254,  -0.46312403,\n",
      "         1.38861257,  14.78869154,   3.43248429,  -0.99788445,\n",
      "        -0.94198831, -15.74548709]), 0)\n"
     ]
    }
   ],
   "source": [
    "#1\n",
    "print(np.linalg.solve(A1, b1))\n",
    "#2\n",
    "if main.is_diag_dominant(A1):\n",
    "    x_int = np.zeros((10, 1))\n",
    "    x2 = main.solve_jacobi(A1, b1, x_int)\n",
    "    print(main.residual_norm(A1, x2, b1))\n",
    "else:\n",
    "    print('nie można użyć tej metody, gdyż macierz nie jest diagonalna')\n",
    "#3\n",
    "if main.is_symmetric(A1):\n",
    "    x3 = sp.sparse.linalg.cg(A1, b1)\n",
    "    print(main.residual_norm(A1, x3, b1))\n",
    "else:\n",
    "    print('nie można użyć tej metody, gdyż macierz nie jest symetryczna')\n",
    "#4\n",
    "print(sp.sparse.linalg.gmres(A1,b1))"
   ]
  },
  {
   "cell_type": "code",
   "execution_count": 46,
   "metadata": {},
   "outputs": [
    {
     "name": "stdout",
     "output_type": "stream",
     "text": [
      "2.499050622627262e-13\n",
      "macierz nie spełnia warunków do rozwiązania tą metodą\n",
      "macierz nie spełnia warunków do rozwiązania tą metodą\n",
      "1.129472439061693e-12\n"
     ]
    }
   ],
   "source": [
    "#1\n",
    "x1 = np.linalg.solve(A1, b1)\n",
    "print(main.residual_norm(A1, x1, b1))\n",
    "#2\n",
    "if main.is_diag_dominant(A1):\n",
    "    x_int = np.zeros((10, 1))\n",
    "    x2 = main.solve_jacobi(A1, b1, x_int)\n",
    "    print(main.residual_norm(A1, x2, b1))\n",
    "else:\n",
    "    print('macierz nie spełnia warunków do rozwiązania tą metodą')\n",
    "#3\n",
    "if main.is_symmetric(A1):\n",
    "    x3 = sp.sparse.linalg.cg(A1, b1)\n",
    "    print(main.residual_norm(A1, x3, b1))\n",
    "else:\n",
    "    print('macierz nie spełnia warunków do rozwiązania tą metodą')\n",
    "#4\n",
    "x4, exitCode = sp.sparse.linalg.gmres(A1, b1)\n",
    "print(main.residual_norm(A1, x4, b1))"
   ]
  },
  {
   "cell_type": "code",
   "execution_count": 56,
   "metadata": {},
   "outputs": [
    {
     "name": "stdout",
     "output_type": "stream",
     "text": [
      "133 µs ± 1.4 µs per loop (mean ± std. dev. of 7 runs, 10000 loops each)\n"
     ]
    }
   ],
   "source": [
    "%%timeit\n",
    "#1\n",
    "x1 = np.linalg.solve(A1, b1)"
   ]
  },
  {
   "cell_type": "code",
   "execution_count": 52,
   "metadata": {},
   "outputs": [
    {
     "name": "stdout",
     "output_type": "stream",
     "text": [
      "905 µs ± 203 µs per loop (mean ± std. dev. of 3 runs, 5 loops each)\n",
      "775 µs ± 57.5 µs per loop (mean ± std. dev. of 3 runs, 5 loops each)\n",
      "736 µs ± 11.4 µs per loop (mean ± std. dev. of 3 runs, 5 loops each)\n",
      "821 µs ± 91.9 µs per loop (mean ± std. dev. of 3 runs, 5 loops each)\n",
      "729 µs ± 99.1 µs per loop (mean ± std. dev. of 3 runs, 5 loops each)\n"
     ]
    },
    {
     "data": {
      "image/png": "[encoded data removed]",
      "text/plain": [
       "<Figure size 432x288 with 1 Axes>"
      ]
     },
     "metadata": {
      "needs_background": "light"
     },
     "output_type": "display_data"
    }
   ],
   "source": [
    "#1\n",
    "it = [10, 20, 40, 80, 100]\n",
    "blad = []\n",
    "t = []\n",
    "for i in it:\n",
    "    t1 = %timeit -r 3 -n 5 -o (sp_linalg.gmres(A1, b1, maxiter = i ))\n",
    "    t.append(t1.average)\n",
    "    blad.append(t1.stdev)\n",
    "\n",
    "plt.scatter(it, t)\n",
    "plt.xlabel(\"wykres w zalezności od czasu\")\n",
    "plt.grid()\n",
    "plt.show()"
   ]
  },
  {
   "cell_type": "markdown",
   "metadata": {},
   "source": [
    "***Zadanie 6***     \n",
    "Rozwiąż układ równań z Zadania 3 podpunkt b) przy pomocy:\n",
    "\n",
    "- funkcji *[solve](https://docs.scipy.org/doc/numpy-1.15.1/reference/generated/numpy.linalg.solve.html?highlight=solve#numpy.linalg.solve)* z biblioteki numpy\n",
    "\n",
    "- zaimplementowanej iteracyjnej metody *solve_jacobi*\n",
    "\n",
    "- iteracyjnej metody *[gradientów sprzężonych](https://docs.scipy.org/doc/scipy/reference/generated/scipy.sparse.linalg.cg.html)*\n",
    " z biblioteki scipy\n",
    "\n",
    "- iteracyjnej metody *[GMRES](https://docs.scipy.org/doc/scipy/reference/generated/scipy.sparse.linalg.gmres.html)*\n",
    " z biblioteki scipy\n",
    "\n",
    "Przed każdą metodą sprawdź czy warunki dotyczące macierzy dla danej metody są spełnione. Zbadaj dokładność i czas obliczeń metod w zależności od liczby iteracji. Wyniki przedstaw na wykresach."
   ]
  },
  {
   "cell_type": "code",
   "execution_count": null,
   "metadata": {},
   "outputs": [
    {
     "name": "stdout",
     "output_type": "stream",
     "text": [
      "[-0.01555625  0.02896471  0.03177538  0.02715727  0.06925766  0.05250547\n",
      "  0.0061119   0.03565031  0.08334973  0.04808132]\n",
      "(array([[0.        , 0.04159464, 0.04159464, 0.04159464, 0.06239196,\n",
      "        0.06239196, 0.01039866, 0.04159464, 0.07279062, 0.0519933 ],\n",
      "       [0.        , 0.02912382, 0.02912382, 0.02912382, 0.04368573,\n",
      "        0.04368573, 0.00728095, 0.02912382, 0.05096668, 0.03640477],\n",
      "       [0.        , 0.03409214, 0.03409214, 0.03409214, 0.0511382 ,\n",
      "        0.0511382 , 0.00852303, 0.03409214, 0.05966124, 0.04261517],\n",
      "       [0.        , 0.02767882, 0.02767882, 0.02767882, 0.04151823,\n",
      "        0.04151823, 0.00691971, 0.02767882, 0.04843794, 0.03459853],\n",
      "       [0.        , 0.04147116, 0.04147116, 0.04147116, 0.06220675,\n",
      "        0.06220675, 0.01036779, 0.04147116, 0.07257454, 0.05183896],\n",
      "       [0.        , 0.03071794, 0.03071794, 0.03071794, 0.04607691,\n",
      "        0.04607691, 0.00767949, 0.03071794, 0.0537564 , 0.03839743],\n",
      "       [0.        , 0.04903833, 0.04903833, 0.04903833, 0.07355749,\n",
      "        0.07355749, 0.01225958, 0.04903833, 0.08581708, 0.06129791],\n",
      "       [0.        , 0.03263762, 0.03263762, 0.03263762, 0.04895643,\n",
      "        0.04895643, 0.0081594 , 0.03263762, 0.05711583, 0.04079702],\n",
      "       [0.        , 0.03875742, 0.03875742, 0.03875742, 0.05813614,\n",
      "        0.05813614, 0.00968936, 0.03875742, 0.06782549, 0.04844678],\n",
      "       [0.        , 0.03547091, 0.03547091, 0.03547091, 0.05320636,\n",
      "        0.05320636, 0.00886773, 0.03547091, 0.06207409, 0.04433864]]), 22)\n",
      "nie można użyć tej metody, gdyż macierz nie jest symetryczna lub dodatnie określona\n",
      "(array([-0.01555582,  0.02896463,  0.03177495,  0.02715704,  0.06925802,\n",
      "        0.05250531,  0.00611219,  0.0356502 ,  0.08334939,  0.04808207]), 0)\n"
     ]
    }
   ],
   "source": [
    "#1\n",
    "print(np.linalg.solve(A2, b2))\n",
    "#2\n",
    "if main.is_diag_dominant(A2):\n",
    "    x_int = np.zeros((10, 1))\n",
    "    print(main.solve_jacobi(A2, b2, x_int))\n",
    "    \n",
    "else:\n",
    "    print('nie można użyć tej metody, gdyż macierz nie jest diagonalna')\n",
    "#3\n",
    "if main.is_symmetric(A2):\n",
    "    x3 = sp.sparse.linalg.cg(A2, b2)\n",
    "    print(main.residual_norm(A2, x3, b2))\n",
    "else:\n",
    "    print('nie można użyć tej metody, gdyż macierz nie jest symetryczna lub dodatnie określona')\n",
    "#4\n",
    "print(sp.sparse.linalg.gmres(A2,b2))"
   ]
  },
  {
   "cell_type": "code",
   "execution_count": null,
   "metadata": {},
   "outputs": [
    {
     "name": "stdout",
     "output_type": "stream",
     "text": [
      "1.793620188084545e-15\n",
      "None\n",
      "macierz nie spełnia warunków do rozwiązania tą metodą\n",
      "8.640883812826315e-05\n"
     ]
    }
   ],
   "source": [
    "#1\n",
    "x1 = np.linalg.solve(A2, b2)\n",
    "print(main.residual_norm(A2, x1, b2))\n",
    "#2\n",
    "if main.is_diag_dominant(A2):\n",
    "    x_int = np.zeros((10, 1))\n",
    "    x2 = main.solve_jacobi(A2, b2, x_int)[0]\n",
    "    print(main.residual_norm(A2, x2, b2))\n",
    "else:\n",
    "    print('macierz nie spełnia warunków do rozwiązania tą metodą')\n",
    "#3\n",
    "if main.is_symmetric(A2):\n",
    "    x3 = sp.sparse.linalg.cg(A2, b2)\n",
    "    print(main.residual_norm(A2, x3, b2))\n",
    "else:\n",
    "    print('macierz nie spełnia warunków do rozwiązania tą metodą')\n",
    "#4\n",
    "x4, exitCode = sp.sparse.linalg.gmres(A2, b2)\n",
    "print(main.residual_norm(A2, x4, b2))"
   ]
  },
  {
   "cell_type": "code",
   "execution_count": null,
   "metadata": {},
   "outputs": [
    {
     "name": "stdout",
     "output_type": "stream",
     "text": [
      "311 µs ± 77 µs per loop (mean ± std. dev. of 7 runs, 1000 loops each)\n"
     ]
    }
   ],
   "source": [
    "%%timeit\n",
    "#1\n",
    "t1 = (np.linalg.solve(A2, b2))"
   ]
  },
  {
   "cell_type": "code",
   "execution_count": 60,
   "metadata": {},
   "outputs": [
    {
     "name": "stdout",
     "output_type": "stream",
     "text": [
      "1.03 µs ± 472 ns per loop (mean ± std. dev. of 3 runs, 5 loops each)\n",
      "933 ns ± 330 ns per loop (mean ± std. dev. of 3 runs, 5 loops each)\n",
      "833 ns ± 217 ns per loop (mean ± std. dev. of 3 runs, 5 loops each)\n",
      "860 ns ± 184 ns per loop (mean ± std. dev. of 3 runs, 5 loops each)\n",
      "887 ns ± 278 ns per loop (mean ± std. dev. of 3 runs, 5 loops each)\n"
     ]
    },
    {
     "data": {
      "image/png": "[encoded data removed]",
      "text/plain": [
       "<Figure size 432x288 with 1 Axes>"
      ]
     },
     "metadata": {
      "needs_background": "light"
     },
     "output_type": "display_data"
    }
   ],
   "source": [
    "\n",
    "#2\n",
    "it = [10, 20, 40, 80, 100]\n",
    "blad = []\n",
    "t = []\n",
    "for i in it:\n",
    "    t1 = %timeit -r 3 -n 5 -o (main.solve_jacobi(A2, b2, x_init = 1))\n",
    "    t.append(t1.average)\n",
    "    blad.append(t1.stdev)\n",
    "\n",
    "plt.scatter(it, t)\n",
    "plt.xlabel(\"wykres w zalezności od czasu\")\n",
    "plt.grid()\n",
    "plt.show()"
   ]
  },
  {
   "cell_type": "code",
   "execution_count": 58,
   "metadata": {},
   "outputs": [
    {
     "name": "stdout",
     "output_type": "stream",
     "text": [
      "670 µs ± 140 µs per loop (mean ± std. dev. of 3 runs, 5 loops each)\n",
      "599 µs ± 81.3 µs per loop (mean ± std. dev. of 3 runs, 5 loops each)\n",
      "517 µs ± 65.5 µs per loop (mean ± std. dev. of 3 runs, 5 loops each)\n",
      "515 µs ± 59.2 µs per loop (mean ± std. dev. of 3 runs, 5 loops each)\n",
      "528 µs ± 69.1 µs per loop (mean ± std. dev. of 3 runs, 5 loops each)\n"
     ]
    },
    {
     "data": {
      "image/png": "[encoded data removed]",
      "text/plain": [
       "<Figure size 432x288 with 1 Axes>"
      ]
     },
     "metadata": {
      "needs_background": "light"
     },
     "output_type": "display_data"
    }
   ],
   "source": [
    "#4\n",
    "it = [10, 20, 40, 80, 100]\n",
    "blad = []\n",
    "t = []\n",
    "for i in it:\n",
    "    t1 = %timeit -r 3 -n 5 -o (sp_linalg.gmres(A2, b2, maxiter = i ))\n",
    "    t.append(t1.average)\n",
    "    blad.append(t1.stdev)\n",
    "\n",
    "plt.scatter(it, t)\n",
    "plt.xlabel(\"wykres w zalezności od czasu\")\n",
    "plt.grid()\n",
    "plt.show()"
   ]
  },
  {
   "cell_type": "markdown",
   "metadata": {},
   "source": [
    "***Zadanie 7***   \n",
    "Rozwiąż układ równań z Zadania 3 podpunkt c) przy pomocy:\n",
    "\n",
    "- funkcji *[solve](https://docs.scipy.org/doc/numpy-1.15.1/reference/generated/numpy.linalg.solve.html?highlight=solve#numpy.linalg.solve)* z biblioteki numpy\n",
    "\n",
    "- zaimplementowanej iteracyjnej metody *solve_jacobi*\n",
    "\n",
    "- iteracyjnej metody *[gradientów sprzężonych](https://docs.scipy.org/doc/scipy/reference/generated/scipy.sparse.linalg.cg.html)*\n",
    " z biblioteki scipy\n",
    "\n",
    "- iteracyjnej metody *[GMRES](https://docs.scipy.org/doc/scipy/reference/generated/scipy.sparse.linalg.gmres.html)*\n",
    " z biblioteki scipy\n",
    "\n",
    "Przed każdą metodą sprawdź czy warunki dotyczące macierzy dla danej metody są spełnione. Zbadaj dokładność i czas obliczeń metod w zależności od liczby iteracji. Wyniki przedstaw na wykresach."
   ]
  },
  {
   "cell_type": "code",
   "execution_count": null,
   "metadata": {},
   "outputs": [
    {
     "name": "stdout",
     "output_type": "stream",
     "text": [
      "[-3.62403792  0.40422552 -2.40746721  1.55129581  2.49604872  2.04092254\n",
      " -1.62466526  0.97883761  0.74452751 -0.00870154]\n",
      "nie można użyć tej metody, gdyż macierz nie jest diagonalna\n",
      "(array([-3.62403795,  0.40422549, -2.40746725,  1.55129578,  2.49604869,\n",
      "        2.04092251, -1.62466528,  0.97883757,  0.74452747, -0.00870157]), 0)\n",
      "(array([-3.62403792,  0.40422552, -2.40746721,  1.55129581,  2.49604872,\n",
      "        2.04092254, -1.62466526,  0.97883761,  0.74452751, -0.00870154]), 0)\n"
     ]
    }
   ],
   "source": [
    "#1\n",
    "print(np.linalg.solve(A3, b3))\n",
    "#2\n",
    "if main.is_diag_dominant(A3):\n",
    "    x_int = np.zeros((10, 1))\n",
    "    x2 = main.solve_jacobi(A3, b3, x_int)\n",
    "    print(main.residual_norm(A3, x2, b3))\n",
    "else:\n",
    "    print('nie można użyć tej metody, gdyż macierz nie jest diagonalna')\n",
    "#3\n",
    "if main.is_symmetric(A3):\n",
    "    print(sp.sparse.linalg.cg(A3, b3))    \n",
    "else:\n",
    "    print('nie można użyć tej metody, gdyż macierz nie jest symetryczna lub dodatnie określona')\n",
    "#4\n",
    "print(sp.sparse.linalg.gmres(A3,b3))"
   ]
  },
  {
   "cell_type": "code",
   "execution_count": null,
   "metadata": {},
   "outputs": [
    {
     "name": "stdout",
     "output_type": "stream",
     "text": [
      "9.565974336450906e-15\n",
      "macierz nie spełnia warunków do rozwiązania tą metodą\n",
      "None\n",
      "1.5280799322856756e-14\n"
     ]
    }
   ],
   "source": [
    "#1\n",
    "x1 = np.linalg.solve(A3, b3)\n",
    "print(main.residual_norm(A3, x1, b3))\n",
    "#2\n",
    "if main.is_diag_dominant(A3):\n",
    "    x_int = np.zeros((10, 1))\n",
    "    x2 = main.solve_jacobi(A3, b3, x_int)\n",
    "    print(main.residual_norm(A3, x2, b3))\n",
    "else:\n",
    "    print('macierz nie spełnia warunków do rozwiązania tą metodą')\n",
    "#3\n",
    "if main.is_symmetric(A3):\n",
    "    x3 = sp.sparse.linalg.cg(A3, b3)\n",
    "    print(main.residual_norm(A3, x3, b3))\n",
    "else:\n",
    "    print('macierz nie spełnia warunków do rozwiązania tą metodą')\n",
    "#4\n",
    "x4, exitCode = sp.sparse.linalg.gmres(A3, b3)\n",
    "print(main.residual_norm(A3, x4, b3))"
   ]
  },
  {
   "cell_type": "code",
   "execution_count": null,
   "metadata": {},
   "outputs": [
    {
     "name": "stdout",
     "output_type": "stream",
     "text": [
      "554 µs ± 105 µs per loop (mean ± std. dev. of 7 runs, 1000 loops each)\n"
     ]
    }
   ],
   "source": [
    "%%timeit\n",
    "#1\n",
    "t1 = (np.linalg.solve(A3, b3))"
   ]
  },
  {
   "cell_type": "code",
   "execution_count": 63,
   "metadata": {},
   "outputs": [
    {
     "name": "stdout",
     "output_type": "stream",
     "text": [
      "1.61 ms ± 483 µs per loop (mean ± std. dev. of 3 runs, 5 loops each)\n",
      "798 µs ± 99.8 µs per loop (mean ± std. dev. of 3 runs, 5 loops each)\n",
      "977 µs ± 76.6 µs per loop (mean ± std. dev. of 3 runs, 5 loops each)\n",
      "989 µs ± 185 µs per loop (mean ± std. dev. of 3 runs, 5 loops each)\n",
      "810 µs ± 63.5 µs per loop (mean ± std. dev. of 3 runs, 5 loops each)\n"
     ]
    },
    {
     "data": {
      "image/png": "[encoded data removed]",
      "text/plain": [
       "<Figure size 432x288 with 1 Axes>"
      ]
     },
     "metadata": {
      "needs_background": "light"
     },
     "output_type": "display_data"
    }
   ],
   "source": [
    "#3\n",
    "it = [10, 20, 40, 80, 100]\n",
    "blad = []\n",
    "t = []\n",
    "for i in it:\n",
    "    t1 = %timeit -r 3 -n 5 -o (sp_linalg.cg(A3, b3, maxiter = i ))\n",
    "    t.append(t1.average)\n",
    "    blad.append(t1.stdev)\n",
    "\n",
    "plt.scatter(it, t)\n",
    "plt.xlabel(\"wykres w zalezności od czasu\")\n",
    "plt.grid()\n",
    "plt.show()"
   ]
  },
  {
   "cell_type": "code",
   "execution_count": 64,
   "metadata": {},
   "outputs": [
    {
     "name": "stdout",
     "output_type": "stream",
     "text": [
      "876 µs ± 45.9 µs per loop (mean ± std. dev. of 3 runs, 5 loops each)\n",
      "929 µs ± 124 µs per loop (mean ± std. dev. of 3 runs, 5 loops each)\n",
      "717 µs ± 47.4 µs per loop (mean ± std. dev. of 3 runs, 5 loops each)\n",
      "747 µs ± 13.3 µs per loop (mean ± std. dev. of 3 runs, 5 loops each)\n",
      "712 µs ± 104 µs per loop (mean ± std. dev. of 3 runs, 5 loops each)\n"
     ]
    },
    {
     "data": {
      "image/png": "[encoded data removed]",
      "text/plain": [
       "<Figure size 432x288 with 1 Axes>"
      ]
     },
     "metadata": {
      "needs_background": "light"
     },
     "output_type": "display_data"
    }
   ],
   "source": [
    "#4\n",
    "it = [10, 20, 40, 80, 100]\n",
    "blad = []\n",
    "t = []\n",
    "for i in it:\n",
    "    t1 = %timeit -r 3 -n 5 -o (sp_linalg.gmres(A3, b3, maxiter = i ))\n",
    "    t.append(t1.average)\n",
    "    blad.append(t1.stdev)\n",
    "\n",
    "plt.scatter(it, t)\n",
    "plt.xlabel(\"wykres w zalezności od czasu\")\n",
    "plt.grid()\n",
    "plt.show()"
   ]
  },
  {
   "cell_type": "markdown",
   "metadata": {},
   "source": [
    "Materiały uzupełniające:\n",
    "- [Scipy Lecture Notes](http://www.scipy-lectures.org/index.html)\n",
    "- [NumPy for Matlab users](https://docs.scipy.org/doc/numpy/user/numpy-for-matlab-users.html#numpy-for-matlab-users)\n",
    "- [Python Tutorial - W3Schools](https://www.w3schools.com/python/default.asp)\n",
    "- [NumPy](https://www.numpy.org)\n",
    "- [Matplotlib](https://matplotlib.org/)\n",
    "- [Anaconda](https://www.anaconda.com/)\n",
    "- [Learn Python for Data Science](https://www.datacamp.com/learn-python-with-anaconda?utm_source=Anaconda_download&utm_campaign=datacamp_training&utm_medium=banner)\n",
    "- [Learn Python](https://www.learnpython.org/)\n",
    "- [Wujek Google](https://google.pl) i [Ciocia Wikipedia](https://pl.wikipedia.org/wiki/Wikipedia:Strona_g%C5%82%C3%B3wna)"
   ]
  }
 ],
 "metadata": {
  "interpreter": {
   "hash": "4f439f54000aac12576396226848bc0cfebd1b4e45a8747663ceeee7e3c8f8f6"
  },
  "kernelspec": {
   "display_name": "Python 3.9.9 64-bit (windows store)",
   "name": "python3"
  },
  "language_info": {
   "codemirror_mode": {
    "name": "ipython",
    "version": 3
   },
   "file_extension": ".py",
   "mimetype": "text/x-python",
   "name": "python",
   "nbconvert_exporter": "python",
   "pygments_lexer": "ipython3",
   "version": "3.9.9"
  }
 },
 "nbformat": 4,
 "nbformat_minor": 2
}
