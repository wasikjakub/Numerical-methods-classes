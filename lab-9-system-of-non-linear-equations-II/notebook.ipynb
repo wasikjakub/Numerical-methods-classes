{
 "cells": [
  {
   "cell_type": "markdown",
   "metadata": {},
   "source": [
    "# <center>Laboratorium 10<br>Metody Numeryczne</center>"
   ]
  },
  {
   "cell_type": "markdown",
   "metadata": {},
   "source": [
    "Instrukcja:  \n",
    "Na zajęciach należy wykonać poniższe zadania, uzupełnić plik main.py, wykonać test na platformie github, a następnie sporządzić sprawozdanie zawierające odpowiedzi z komentarzami."
   ]
  },
  {
   "cell_type": "markdown",
   "metadata": {},
   "source": [
    "***Materiały przygotowujące:***\n"
   ]
  },
  {
   "cell_type": "code",
   "execution_count": 2,
   "metadata": {},
   "outputs": [],
   "source": [
    "import main\n",
    "import numpy as np\n",
    "import scipy\n",
    "import matplotlib\n",
    "import matplotlib.pyplot as plt\n",
    "import scipy.linalg\n",
    "from numpy.polynomial import polynomial as P"
   ]
  },
  {
   "cell_type": "markdown",
   "metadata": {},
   "source": [
    "**Cel zajęć:** Celem zajęć jest zapoznanie się z numerycznymi metodami rozwiązywania równań nieliniowych lub inaczej mówiąc metodami znajdowania miejsc zerowych funkcji.\n",
    "W związku z tym podczas zajęć będziemy rozważać następujący problem:\n",
    "\n",
    "Dana jest funkcja $f(x)$, należy wyznaczyć argumenty funkcji $x$, dla których $f(x) = 0$ (funkcja jest równa zero). \n",
    "\n",
    "Argumenty $x^*$, dla których $f(x)=0$ nazywamy *pierwiastkami*.\n",
    "\n",
    "Funkcja i jej pochodne zostały zaimplementowane w *main.py*"
   ]
  },
  {
   "cell_type": "markdown",
   "metadata": {},
   "source": [
    "***Zadanie 1.***  \n",
    "Dany jest wielomian postaci $W(x)=(x-1)(x-2)\\cdot \\ldots \\cdot (x-20)$.\n",
    "\n",
    "1. Zdefinuj funkcję *polly_A*, która obliczy współczynniki wielomianu $a_i$ w postaci ogólnej wielomianu $w(x)=a_nx^n+\\ldots +a_2x^2+a_1x+1$. Skonstruuj wektor tych współczynników. Użyj funkcji [polyfromroots](https://docs.scipy.org/doc/numpy-1.13.0/reference/generated/numpy.polynomial.polynomial.polyfromroots.html#numpy.polynomial.polynomial.polyfromroots) oraz *linspace*.\n",
    "2. Zdefinuj funkcję *roots_20*, która w pętli 20 iteracji będzie:  \n",
    "\n",
    "   i. konstruować wektor współczynników nowego wielomianu w następujący sposób: do każdego wygenerowanego wektora współczynników dodać losową wartość w postaci $(10^{-10})N(0,1)$. Użyj funkcji [random_sample](https://docs.scipy.org/doc/numpy-1.15.1/reference/generated/numpy.random.random_sample.html#numpy.random.random_sample).  \n",
    "  ii. wyliczyać pierwiaski tego wielomianu za pomocą metody [polyroots](https://docs.scipy.org/doc/numpy/reference/generated/numpy.polynomial.polynomial.polyroots.html#numpy.polynomial.polynomial.polyroots).\n",
    "\n",
    "3. Narysuj na wykresie te pierwiastki (w każdej iteracji dorysowywać pierwiastki na tym samym rysunku).\n",
    "4. Określić, który pierwiastek jest najbardziej wrażliwy na zaburzenia.\n",
    "5. Zaproponować sposób oszacowania uwarunkowania każdego z pierwiastków."
   ]
  },
  {
   "cell_type": "code",
   "execution_count": 3,
   "metadata": {},
   "outputs": [
    {
     "name": "stderr",
     "output_type": "stream",
     "text": [
      "C:\\Users\\koobie\\AppData\\Local\\Packages\\PythonSoftwareFoundation.Python.3.9_qbz5n2kfra8p0\\LocalCache\\local-packages\\Python39\\site-packages\\matplotlib\\collections.py:206: ComplexWarning: Casting complex values to real discards the imaginary part\n",
      "  offsets = np.asanyarray(offsets, float)\n"
     ]
    },
    {
     "data": {
      "image/png": "[encoded data removed]",
      "text/plain": [
       "<Figure size 432x288 with 1 Axes>"
      ]
     },
     "metadata": {
      "needs_background": "light"
     },
     "output_type": "display_data"
    }
   ],
   "source": [
    "W = np.linspace(1,20,20)\n",
    "x = main.polly_A(W)\n",
    "x2 = main.roots_20(x)[1]\n",
    "plt.scatter(W,x2, c=W)\n",
    "plt.grid()\n",
    "plt.title('Pierwiatki wielomianu')\n",
    "plt.show()"
   ]
  },
  {
   "cell_type": "markdown",
   "metadata": {},
   "source": [
    "***Zadanie 2.***  \n",
    "Dany jest wielomian $w_1(x)=(x-1)^8$. Wyznacz numerycznie miejsca zerowego tego wielomianu poprzez wyznaczenie wartości własnych macierzy Frobeniusa. W związku z tym wykonaj następujące czynności:  \n",
    "\n",
    "1. Zaiplementuj funkcję tworzącą [macierz Frobenusa](https://github.com/KAIR-ISZ/public_lectures/blob/master/Metody%20Numeryczne%202019/Lecture%204%20(nonlinear%20equations)/Metody%20numeryczne%202019%20-%20R%C3%B3wnania%20nieliniowe.pdf) *frob_a*, dla zadanego wektora współczynników wielomianu $w(x)$.  \n",
    "2. Wyznacz wartości własne przekształconej macierzy za pomocą funkcji [eigvals](https://docs.scipy.org/doc/numpy/reference/generated/numpy.linalg.eigvals.html#numpy.linalg.eigvals).  \n",
    "3. Dokonaj rozkładu Schura macierzy zdefiniowanej w punkcie 1. użyj funkcji [schure](https://docs.scipy.org/doc/scipy-0.14.0/reference/generated/scipy.linalg.schur.html#scipy.linalg.schur).  \n",
    "4. Porównaj wyniki z funkcją polyroots."
   ]
  },
  {
   "cell_type": "code",
   "execution_count": 14,
   "metadata": {},
   "outputs": [
    {
     "name": "stdout",
     "output_type": "stream",
     "text": [
      "Macierz frobenusa, wartości własne oraz rozkład Shura zostały zaimplementowane w funcji w mainie\n",
      "(array([[  0.,   1.,   0.,   0.,   0.,   0.,   0.,   0.,   0.],\n",
      "       [  0.,   0.,   1.,   0.,   0.,   0.,   0.,   0.,   0.],\n",
      "       [  0.,   0.,   0.,   1.,   0.,   0.,   0.,   0.,   0.],\n",
      "       [  0.,   0.,   0.,   0.,   1.,   0.,   0.,   0.,   0.],\n",
      "       [  0.,   0.,   0.,   0.,   0.,   1.,   0.,   0.,   0.],\n",
      "       [  0.,   0.,   0.,   0.,   0.,   0.,   1.,   0.,   0.],\n",
      "       [  0.,   0.,   0.,   0.,   0.,   0.,   0.,   1.,   0.],\n",
      "       [  0.,   0.,   0.,   0.,   0.,   0.,   0.,   0.,   1.],\n",
      "       [ -1.,   8., -28.,  56., -70.,  56., -28.,   8.,  -1.]]), array([-4.69153788+0.j        ,  0.2884918 +1.6889081j ,\n",
      "        0.2884918 -1.6889081j ,  0.51507253+0.66306355j,\n",
      "        0.51507253-0.66306355j,  0.52161447+0.30995694j,\n",
      "        0.52161447-0.30995694j,  0.52059013+0.09353964j,\n",
      "        0.52059013-0.09353964j]), (array([[-4.69153788e+00, -9.29392730e-01, -1.26194300e+01,\n",
      "        -3.62081520e+00, -1.39810433e+00, -8.96404714e+00,\n",
      "         5.75835831e+00,  3.14357808e+01, -1.04825206e+02],\n",
      "       [ 0.00000000e+00,  2.88491804e-01,  2.91474068e+00,\n",
      "         7.35782993e-01,  2.84317230e-01,  1.83583546e+00,\n",
      "        -1.18162698e+00, -6.42990334e+00,  2.14441842e+01],\n",
      "       [ 0.00000000e+00, -9.78615557e-01,  2.88491804e-01,\n",
      "         4.28143175e-02,  1.70373135e-02,  1.40385974e-01,\n",
      "        -9.57679193e-02, -4.72683481e-01,  1.58377721e+00],\n",
      "       [ 0.00000000e+00,  0.00000000e+00,  0.00000000e+00,\n",
      "         5.15072531e-01, -8.26871955e-01,  1.88374704e-01,\n",
      "        -2.38299218e-01, -2.48399315e-01,  9.87357290e-01],\n",
      "       [ 0.00000000e+00,  0.00000000e+00,  0.00000000e+00,\n",
      "         5.31706594e-01,  5.15072531e-01,  5.91602475e-01,\n",
      "        -7.34001420e-01, -8.30693287e-01,  3.25000335e+00],\n",
      "       [ 0.00000000e+00,  0.00000000e+00,  0.00000000e+00,\n",
      "         0.00000000e+00,  0.00000000e+00,  5.21614471e-01,\n",
      "        -1.16241948e-01, -2.32073648e+00,  5.63189585e+00],\n",
      "       [ 0.00000000e+00,  0.00000000e+00,  0.00000000e+00,\n",
      "         0.00000000e+00,  0.00000000e+00,  8.26494289e-01,\n",
      "         5.21614471e-01,  2.01952440e-01,  9.56053713e-02],\n",
      "       [ 0.00000000e+00,  0.00000000e+00,  0.00000000e+00,\n",
      "         0.00000000e+00,  0.00000000e+00,  0.00000000e+00,\n",
      "         0.00000000e+00,  5.20590135e-01, -4.25365151e+00],\n",
      "       [ 0.00000000e+00,  0.00000000e+00,  0.00000000e+00,\n",
      "         0.00000000e+00,  0.00000000e+00,  0.00000000e+00,\n",
      "         0.00000000e+00,  2.05697734e-03,  5.20590135e-01]]), array([[-4.16276059e-06, -1.39796315e-02,  2.43485743e-02,\n",
      "         7.29904861e-01,  2.50778703e-01, -3.06304503e-01,\n",
      "         5.40044082e-01, -1.32253677e-01, -2.44859068e-02],\n",
      "       [ 1.95297490e-05, -2.78570339e-02, -3.36701050e-02,\n",
      "         5.00066199e-01, -4.77922634e-01,  5.50218612e-01,\n",
      "        -2.65445143e-02,  4.39634527e-01,  1.51295779e-01],\n",
      "       [-9.16245572e-05,  2.48954118e-02, -9.11560336e-02,\n",
      "        -1.85532609e-02, -6.68176723e-01,  2.04799036e-02,\n",
      "         1.90079619e-01, -5.84654233e-01, -4.07303536e-01],\n",
      "       [ 4.29860081e-04,  9.64739901e-02,  4.74221509e-02,\n",
      "        -3.50083652e-01, -3.23165064e-01, -1.97279456e-01,\n",
      "         5.70416674e-01,  1.25446650e-01,  6.17590702e-01],\n",
      "       [-2.01670485e-03, -1.89756081e-02,  2.89452977e-01,\n",
      "        -2.80689644e-01,  1.50657081e-01,  2.91324639e-01,\n",
      "         5.25035515e-01,  3.65797806e-01, -5.65710376e-01],\n",
      "       [ 9.46144722e-03, -2.86863182e-01,  5.36455001e-02,\n",
      "        -5.87372445e-02,  3.12049691e-01,  6.46029156e-01,\n",
      "         1.79396462e-01, -5.14420156e-01,  3.15835755e-01],\n",
      "       [-4.43887380e-02, -1.44049398e-01, -9.40053573e-01,\n",
      "        -1.07365470e-01,  1.15422144e-01,  5.48776805e-02,\n",
      "         1.91742386e-01,  1.41759613e-01, -9.41094346e-02],\n",
      "       [ 2.08251446e-01,  9.19648550e-01, -1.30903820e-01,\n",
      "         2.05562782e-02,  1.53316645e-01,  2.36639477e-01,\n",
      "         3.91349760e-02, -1.09062747e-01,  1.97241922e-02],\n",
      "       [-9.77019547e-01,  1.99868204e-01,  1.47578244e-02,\n",
      "         9.12465052e-03,  3.00562140e-02,  5.35247826e-02,\n",
      "         5.14051317e-04, -3.53045554e-02,  1.30191644e-02]])), array([0.98886676-0.00433935j, 0.98886676+0.00433935j,\n",
      "       0.99477753-0.01116895j, 0.99477753+0.01116895j,\n",
      "       1.00441843-0.01196254j, 1.00441843+0.01196254j,\n",
      "       1.01193728-0.0051543j , 1.01193728+0.0051543j ]))\n",
      "funkcja polyroots\n",
      "[0.98886676-0.00433935j 0.98886676+0.00433935j 0.99477753-0.01116895j\n",
      " 0.99477753+0.01116895j 1.00441843-0.01196254j 1.00441843+0.01196254j\n",
      " 1.01193728-0.0051543j  1.01193728+0.0051543j ]\n"
     ]
    }
   ],
   "source": [
    "w_1 = np.ones(8)\n",
    "p_1 = main.polly_A(w_1)\n",
    "print('Macierz frobenusa, wartości własne oraz rozkład Shura zostały zaimplementowane w funcji w mainie')\n",
    "print(main.frob_a(p_1[::-1]))\n",
    "print('funkcja polyroots')\n",
    "print(np.polynomial.polynomial.polyroots(p_1))"
   ]
  },
  {
   "cell_type": "markdown",
   "metadata": {},
   "source": [
    "***Zadanie 3.***  \n",
    "Dla danego wielomianu $w_2(x) = 243x^7-486x^6+783x^5-990x^4+558x^3-28x^2-72x+16$ wyznacz miejsca zerowe numerycznie, w taki sam sposób jak w zadaniu 2.\n"
   ]
  },
  {
   "cell_type": "code",
   "execution_count": 15,
   "metadata": {},
   "outputs": [
    {
     "name": "stdout",
     "output_type": "stream",
     "text": [
      "Macierz frobenusa, wartości własne oraz rozkład Shura zostały zaimplementowane w funcji w mainie\n",
      "(array([[ 0.00000000e+00,  1.00000000e+00,  0.00000000e+00,\n",
      "         0.00000000e+00,  0.00000000e+00,  0.00000000e+00,\n",
      "         0.00000000e+00,  0.00000000e+00,  0.00000000e+00],\n",
      "       [ 0.00000000e+00,  0.00000000e+00,  1.00000000e+00,\n",
      "         0.00000000e+00,  0.00000000e+00,  0.00000000e+00,\n",
      "         0.00000000e+00,  0.00000000e+00,  0.00000000e+00],\n",
      "       [ 0.00000000e+00,  0.00000000e+00,  0.00000000e+00,\n",
      "         1.00000000e+00,  0.00000000e+00,  0.00000000e+00,\n",
      "         0.00000000e+00,  0.00000000e+00,  0.00000000e+00],\n",
      "       [ 0.00000000e+00,  0.00000000e+00,  0.00000000e+00,\n",
      "         0.00000000e+00,  1.00000000e+00,  0.00000000e+00,\n",
      "         0.00000000e+00,  0.00000000e+00,  0.00000000e+00],\n",
      "       [ 0.00000000e+00,  0.00000000e+00,  0.00000000e+00,\n",
      "         0.00000000e+00,  0.00000000e+00,  1.00000000e+00,\n",
      "         0.00000000e+00,  0.00000000e+00,  0.00000000e+00],\n",
      "       [ 0.00000000e+00,  0.00000000e+00,  0.00000000e+00,\n",
      "         0.00000000e+00,  0.00000000e+00,  0.00000000e+00,\n",
      "         1.00000000e+00,  0.00000000e+00,  0.00000000e+00],\n",
      "       [ 0.00000000e+00,  0.00000000e+00,  0.00000000e+00,\n",
      "         0.00000000e+00,  0.00000000e+00,  0.00000000e+00,\n",
      "         0.00000000e+00,  1.00000000e+00,  0.00000000e+00],\n",
      "       [ 0.00000000e+00,  0.00000000e+00,  0.00000000e+00,\n",
      "         0.00000000e+00,  0.00000000e+00,  0.00000000e+00,\n",
      "         0.00000000e+00,  0.00000000e+00,  1.00000000e+00],\n",
      "       [-1.00000000e+00,  1.95900000e+03, -8.50052000e+05,\n",
      "        -3.59035848e+08,  2.75707451e+11, -2.30930630e+13,\n",
      "        -3.91101911e+15, -2.96809226e+16,  1.55302629e+18]]), array([ 0.00000000e+00+0.j        ,  1.55302629e+18+0.j        ,\n",
      "        6.25000163e-02+0.j        , -3.57139269e-02+0.j        ,\n",
      "       -1.39035559e-02+0.j        ,  3.70977177e-03+0.00102272j,\n",
      "        3.70977177e-03-0.00102272j, -1.19161710e-03+0.j        ,\n",
      "        1.20788621e-06+0.j        ]), (array([[ 0.00000000e+00,  0.00000000e+00,  9.98044964e-01,\n",
      "         6.24601271e-02,  2.23192812e-03, -3.10017647e-05,\n",
      "        -6.09148435e-08, -2.59157011e-10,  5.08531258e-13],\n",
      "       [ 0.00000000e+00,  1.55302629e+18,  5.77416262e+09,\n",
      "        -5.98128846e+10, -7.16121928e+11,  1.35363456e+13,\n",
      "         1.65839012e+14, -4.41733788e+15, -2.96093433e+16],\n",
      "       [ 0.00000000e+00,  0.00000000e+00,  6.24999995e-02,\n",
      "        -9.97408252e-01, -3.56410342e-02,  4.95058487e-04,\n",
      "         9.72738410e-07,  3.96920137e-09, -1.14229632e-09],\n",
      "       [ 0.00000000e+00,  0.00000000e+00,  0.00000000e+00,\n",
      "        -3.57142950e-02,  9.99265648e-01, -1.38799266e-02,\n",
      "        -2.72724956e-05, -1.14370093e-07,  1.13422490e-08],\n",
      "       [ 0.00000000e+00,  0.00000000e+00,  0.00000000e+00,\n",
      "         0.00000000e+00, -1.38888139e-02, -9.99901616e-01,\n",
      "        -1.96469074e-03, -8.33330453e-06,  1.85993701e-07],\n",
      "       [ 0.00000000e+00,  0.00000000e+00,  0.00000000e+00,\n",
      "         0.00000000e+00,  0.00000000e+00, -1.96489711e-03,\n",
      "         9.99989025e-01,  4.25409842e-03, -1.01561322e-05],\n",
      "       [ 0.00000000e+00,  0.00000000e+00,  0.00000000e+00,\n",
      "         0.00000000e+00,  0.00000000e+00,  0.00000000e+00,\n",
      "         4.25440132e-03, -9.99993070e-01,  1.90872445e-03],\n",
      "       [ 0.00000000e+00,  0.00000000e+00,  0.00000000e+00,\n",
      "         0.00000000e+00,  0.00000000e+00,  0.00000000e+00,\n",
      "         0.00000000e+00,  1.96263652e-03,  1.00017798e+00],\n",
      "       [ 0.00000000e+00,  0.00000000e+00,  0.00000000e+00,\n",
      "         0.00000000e+00,  0.00000000e+00,  0.00000000e+00,\n",
      "         0.00000000e+00, -1.21291020e-06,  1.96263652e-03]]), array([[ 1.00000000e+00,  0.00000000e+00,  0.00000000e+00,\n",
      "         0.00000000e+00,  0.00000000e+00,  0.00000000e+00,\n",
      "         0.00000000e+00,  0.00000000e+00,  0.00000000e+00],\n",
      "       [ 0.00000000e+00,  0.00000000e+00,  9.98044964e-01,\n",
      "         6.24601271e-02,  2.23192812e-03, -3.10017647e-05,\n",
      "        -6.09148435e-08, -2.59157011e-10,  5.08531258e-13],\n",
      "       [ 0.00000000e+00, -0.00000000e+00,  6.23778097e-02,\n",
      "        -9.97689003e-01,  2.68119058e-02, -2.60449897e-03,\n",
      "        -3.61193390e-05, -9.27521112e-08, -7.71139705e-11],\n",
      "       [ 0.00000000e+00, -0.00000000e+00,  3.89861308e-03,\n",
      "        -2.65843828e-02, -9.99551943e-01, -1.29254196e-02,\n",
      "        -2.63003101e-03,  2.49300333e-05, -1.41659446e-07],\n",
      "       [ 0.00000000e+00, -0.00000000e+00,  2.43663315e-04,\n",
      "        -2.93906636e-03, -1.28212202e-02,  9.99849919e-01,\n",
      "        -1.09719276e-02,  2.58340833e-03,  1.98592439e-05],\n",
      "       [ 0.00000000e+00, -0.00000000e+00,  1.52289571e-05,\n",
      "        -1.38065118e-04, -2.76752093e-03,  1.08962712e-02,\n",
      "         9.99817537e-01,  1.52304890e-02,  2.55280770e-03],\n",
      "       [ 0.00000000e+00, -4.14612492e-37,  9.51809810e-07,\n",
      "        -1.02585891e-05, -1.00068923e-04,  2.74776247e-03,\n",
      "         1.51552178e-02, -9.99734343e-01,  1.71464751e-02],\n",
      "       [ 0.00000000e+00, -6.43904101e-19,  5.94881127e-08,\n",
      "        -5.82964681e-07, -8.89514053e-06,  9.48028665e-05,\n",
      "         2.81240558e-03, -1.71055586e-02, -9.99849729e-01],\n",
      "       [ 0.00000000e+00, -1.00000000e+00, -3.83046398e-26,\n",
      "         3.75373349e-25,  5.72761747e-24, -6.10439545e-23,\n",
      "        -1.81091948e-21,  1.10143394e-20,  6.43807341e-19]])), array([-0.03571429, -0.01388889, -0.00205761,  0.0010101 ,  0.00135501,\n",
      "        0.00179211,  0.00411523,  0.0625    ]))\n"
     ]
    }
   ],
   "source": [
    "w_2 = np.array([243, -486, 738, 990, 558, -28, -72, 16])\n",
    "p_2 = main.polly_A(w_2)\n",
    "print('Macierz frobenusa, wartości własne oraz rozkład Shura zostały zaimplementowane w funcji w mainie')\n",
    "print(main.frob_a(p_2[::-1]))"
   ]
  },
  {
   "cell_type": "markdown",
   "metadata": {},
   "source": [
    "***Zadanie 4.***\n",
    "\n",
    "Dany jest wielomian: \n",
    "$\n",
    "w_3(x)= x^5 - 156x^4 - 5x^3 + 780x^2 + 4x - 624\n",
    "$.\n",
    " Wiedząc, że wielomian ten w postaci szeregu Czebyszewa jest następujący \n",
    " $$w_3(x)= (a_0+\\frac{a_2}{2}+ \\frac{3a_4}{4})T_0(x)+(a_1+\\frac{3a_3}{4}+ \\frac{5a_5}{8})T_1(x)+(\\frac{a_2}{2}+ \\frac{a_4}{4})T_2(x)+(\\frac{a_3}{4}+ \\frac{5a_5}{16})T_3(x)+ (\\frac{a_4}{8})T_4 + (\\frac{a_5}{16})T_5(x)$$ \n",
    " znajdź pierwiastki wykorzystując funkcję [chebroots](https://numpy.org/doc/stable/reference/generated/numpy.polynomial.chebyshev.chebroots.html)."
   ]
  },
  {
   "cell_type": "code",
   "execution_count": 17,
   "metadata": {},
   "outputs": [
    {
     "name": "stdout",
     "output_type": "stream",
     "text": [
      "[-1.         -0.74928977  0.00178062  0.75071428  1.        ]\n"
     ]
    }
   ],
   "source": [
    "w_3 = np.array([1, -156, -5, 780, 4, -624])\n",
    "print(np.polynomial.chebyshev.chebroots(w_3))"
   ]
  }
 ],
 "metadata": {
  "interpreter": {
   "hash": "4f439f54000aac12576396226848bc0cfebd1b4e45a8747663ceeee7e3c8f8f6"
  },
  "kernelspec": {
   "display_name": "Python 3.9.9 64-bit (windows store)",
   "name": "python3"
  },
  "language_info": {
   "codemirror_mode": {
    "name": "ipython",
    "version": 3
   },
   "file_extension": ".py",
   "mimetype": "text/x-python",
   "name": "python",
   "nbconvert_exporter": "python",
   "pygments_lexer": "ipython3",
   "version": "3.9.9"
  }
 },
 "nbformat": 4,
 "nbformat_minor": 2
}
