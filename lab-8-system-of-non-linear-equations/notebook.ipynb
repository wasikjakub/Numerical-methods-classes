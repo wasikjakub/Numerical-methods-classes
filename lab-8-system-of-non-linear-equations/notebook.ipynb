{
 "cells": [
  {
   "cell_type": "markdown",
   "metadata": {},
   "source": [
    "# <center>Laboratorium 9<br>Metody Numeryczne</center>"
   ]
  },
  {
   "cell_type": "markdown",
   "metadata": {},
   "source": [
    "Instrukcja:  \n",
    "Na zajęciach należy wykonać poniższe zadania, a następnie sporządzić sprawozdanie zawierające odpowiedzi (w postaci kodu) z komentarzami w środowisku Jupyter Notebook i umieścić je na platformie e-learningowej."
   ]
  },
  {
   "cell_type": "markdown",
   "metadata": {},
   "source": [
    "***Materiały przygotowujące:***\n"
   ]
  },
  {
   "cell_type": "code",
   "execution_count": 2,
   "metadata": {},
   "outputs": [],
   "source": [
    "import main\n",
    "import numpy as np\n",
    "import scipy \n",
    "import matplotlib\n",
    "import matplotlib.pyplot as plt\n",
    "import math\n"
   ]
  },
  {
   "cell_type": "markdown",
   "metadata": {},
   "source": []
  },
  {
   "cell_type": "markdown",
   "metadata": {},
   "source": [
    "***Temat główny:***\n",
    "\n",
    "Znajdź miejsca zerowe funkcji: \n",
    "$ \n",
    "f(x) = e^{-2x} + x^2 - 1 \n",
    "$,\n",
    "\n",
    "metodami:\n",
    "* Bisekcji,\n",
    "* Siecznych,\n",
    "* Newtona\n",
    "\n",
    "Funkcja i jej pochodne zostały zaimplementowane w *main.py*"
   ]
  },
  {
   "cell_type": "markdown",
   "metadata": {},
   "source": [
    "***Zadanie 1.***  \n",
    "Wykonaj wykres funckji oraz jej pierwszej i drugiej pochodnej (obliczonej analitycznie) na jednym rysunku w przedziale pozwalającym na zgrubne określenie miejsc zerowych. Wykres powinien być odpowiednio opisany. Określ przedział miejsca zerowego."
   ]
  },
  {
   "cell_type": "code",
   "execution_count": 3,
   "metadata": {},
   "outputs": [
    {
     "data": {
      "image/png": "[encoded data removed]",
      "text/plain": [
       "<Figure size 432x288 with 1 Axes>"
      ]
     },
     "metadata": {
      "needs_background": "light"
     },
     "output_type": "display_data"
    }
   ],
   "source": [
    "x = np.linspace(-1, 5)\n",
    "plt.plot(x, main.fun(x))\n",
    "plt.plot(x, main.dfun(x))\n",
    "plt.plot(x, main.ddfun(x))\n",
    "plt.grid()\n",
    "plt.title('Wykres wraz z jego dwoma pochodnymi')\n",
    "plt.legend((\"f(x)\", \"df(x)\", \"ddf(x)\"))\n",
    "plt.ylim([-3, 3])\n",
    "plt.show()"
   ]
  },
  {
   "cell_type": "markdown",
   "metadata": {},
   "source": [
    "***Zadanie 2.***  \n",
    "Zaimplementuj [metodę bisekcji](https://en.wikipedia.org/wiki/Bisection_method)\n",
    "\n",
    "Gwarancja zbieżności:\n",
    "\n",
    "1) funkcja jest ciągła na danym przedziale [a,b]\n",
    "\n",
    "2) funkcja na końcach przedziału przyjmuje przeciwne znaki"
   ]
  },
  {
   "cell_type": "markdown",
   "metadata": {},
   "source": [
    "***Zadanie 3.***  \n",
    "Zaimplementuj [metodę siecznych](https://en.wikipedia.org/wiki/Secant_method)\n",
    "\n",
    "Gwarancja zbieżności:\n",
    "\n",
    "1) funkcja jest ciągła na danym przedziale [a,b]\n",
    "\n",
    "2) Pierwsza i druga pochodna istnieją i są ciągłe w przedziale domkniętym [a,b]\n",
    "\n",
    "3) funkcja na końcach przedziału przyjmuje przeciwne znaki\n",
    "\n",
    "4) pierwsza i druga pochodna mają stały znak (brak eksremów lokalnych i punktów przegięcia)\n"
   ]
  },
  {
   "cell_type": "markdown",
   "metadata": {},
   "source": [
    "***Zadanie 4.***  \n",
    "Zaimplementuj [metodę Newtona](https://en.wikipedia.org/wiki/Newton%27s_method)\n",
    "\n",
    "Gwarancja zbieżności:\n",
    "\n",
    "1) funkcja jest ciągła na danym przedziale [a,b]\n",
    "\n",
    "2) Pierwsza i druga pochodna istnieją i są ciągłe w przedziale domkniętym [a,b]\n",
    "\n",
    "3) funkcja na końcach przedziału przyjmuje przeciwne znaki\n",
    "\n",
    "4) pierwsza i druga pochodna mają stały znak (brak eksremów lokalnych i punktów przegięcia)\n"
   ]
  },
  {
   "cell_type": "markdown",
   "metadata": {},
   "source": [
    "***Zadania 5.***  \n",
    "Dla głównej funkcji z zadania 1 znajdź miejsca zerowe przy użyciu:\n",
    "\n",
    "* funkcji root dostępnej w pakiecie scipy.optimize\n",
    "* funkcji fsolve dostępnej w pakiecie scipy.optimize\n"
   ]
  },
  {
   "cell_type": "code",
   "execution_count": 4,
   "metadata": {},
   "outputs": [
    {
     "data": {
      "text/plain": [
       "array([0.        , 0.91656258])"
      ]
     },
     "execution_count": 4,
     "metadata": {},
     "output_type": "execute_result"
    }
   ],
   "source": [
    "from scipy import optimize\n",
    "x_zer = optimize.root(main.fun, [0, 2])\n",
    "x_zer.x"
   ]
  },
  {
   "cell_type": "code",
   "execution_count": 5,
   "metadata": {},
   "outputs": [
    {
     "name": "stdout",
     "output_type": "stream",
     "text": [
      "[0.         0.91656258]\n"
     ]
    }
   ],
   "source": [
    "x_zer_2 = optimize.fsolve(main.fun, [0,1])\n",
    "print(x_zer_2)"
   ]
  },
  {
   "cell_type": "markdown",
   "metadata": {},
   "source": [
    "***Zadanie 6.***  \n",
    "Dla głównej funkcji oraz przedziału zdefiniowanego z zadania 1 znajdź miejsca zerowe przy użyciu:\n",
    "\n",
    "* metody bisekcji\n",
    "* metody siecznych\n",
    "* metody Newtona\n",
    "\n",
    "z tolerancją $10^{-10}$\n",
    "\n",
    "Zbadaj dokładność(względem rozwiązania z zadania 5) i czas obliczeń metod w zależności od liczby iteracji. Wyniki przedstaw na wykresach. "
   ]
  },
  {
   "cell_type": "code",
   "execution_count": 6,
   "metadata": {},
   "outputs": [
    {
     "name": "stdout",
     "output_type": "stream",
     "text": [
      "(0.5, 1)\n",
      "jest ta metoda zdecydowanie mniej dokładna niż ta zastosowana w zadaniu 5\n"
     ]
    }
   ],
   "source": [
    "x_zer = main.bisection(0, 1, main.fun, 10e-10, 1)\n",
    "print(x_zer)\n",
    "print('jest ta metoda zdecydowanie mniej dokładna niż ta zastosowana w zadaniu 5')"
   ]
  },
  {
   "cell_type": "code",
   "execution_count": 7,
   "metadata": {},
   "outputs": [
    {
     "name": "stdout",
     "output_type": "stream",
     "text": [
      "33.9 µs ± 4.31 µs per loop (mean ± std. dev. of 3 runs, 5 loops each)\n",
      "33.3 µs ± 3.42 µs per loop (mean ± std. dev. of 3 runs, 5 loops each)\n",
      "32.2 µs ± 1.9 µs per loop (mean ± std. dev. of 3 runs, 5 loops each)\n",
      "74.2 µs ± 22.8 µs per loop (mean ± std. dev. of 3 runs, 5 loops each)\n",
      "32.4 µs ± 2.19 µs per loop (mean ± std. dev. of 3 runs, 5 loops each)\n"
     ]
    },
    {
     "data": {
      "image/png": "[encoded data removed]",
      "text/plain": [
       "<Figure size 432x288 with 1 Axes>"
      ]
     },
     "metadata": {
      "needs_background": "light"
     },
     "output_type": "display_data"
    }
   ],
   "source": [
    "it = [10, 20, 40, 80, 100]\n",
    "blad = []\n",
    "t = []\n",
    "for i in it:\n",
    "    t1 = %timeit -r 3 -n 5 -o main.bisection(0, 1, main.fun, 10e-10, 1)\n",
    "    t.append(t1.average)\n",
    "    blad.append(t1.stdev)\n",
    "\n",
    "plt.scatter(it, t)\n",
    "plt.title(\"czas obliczeń w zalezności od iteracji\")\n",
    "plt.grid()\n",
    "plt.show()"
   ]
  },
  {
   "cell_type": "code",
   "execution_count": 8,
   "metadata": {},
   "outputs": [
    {
     "name": "stdout",
     "output_type": "stream",
     "text": [
      "(0.20283566087973698, 1)\n",
      "(0.9132391279903154, 1)\n",
      "Ta metoda jest zdecydowanie bardziej dokładna, przy odpowiednim dobraniu zakresów\n"
     ]
    }
   ],
   "source": [
    "x_zer = main.secant(-0.5, 0.5, main.fun, 10e-10, 1)\n",
    "print(x_zer)\n",
    "x_zer_2 = main.secant(0.5, 1, main.fun, 10e-10, 1)\n",
    "print(x_zer_2)\n",
    "print('Ta metoda jest zdecydowanie bardziej dokładna, przy odpowiednim dobraniu zakresów')"
   ]
  },
  {
   "cell_type": "code",
   "execution_count": 9,
   "metadata": {},
   "outputs": [
    {
     "name": "stdout",
     "output_type": "stream",
     "text": [
      "11.8 µs ± 3.28 µs per loop (mean ± std. dev. of 3 runs, 5 loops each)\n",
      "21.6 µs ± 4.25 µs per loop (mean ± std. dev. of 3 runs, 5 loops each)\n",
      "11.6 µs ± 3.22 µs per loop (mean ± std. dev. of 3 runs, 5 loops each)\n",
      "11.5 µs ± 3.15 µs per loop (mean ± std. dev. of 3 runs, 5 loops each)\n",
      "12 µs ± 3.84 µs per loop (mean ± std. dev. of 3 runs, 5 loops each)\n"
     ]
    },
    {
     "data": {
      "image/png": "[encoded data removed]",
      "text/plain": [
       "<Figure size 432x288 with 1 Axes>"
      ]
     },
     "metadata": {
      "needs_background": "light"
     },
     "output_type": "display_data"
    }
   ],
   "source": [
    "it = [10, 20, 40, 80, 100]\n",
    "blad = []\n",
    "t = []\n",
    "for i in it:\n",
    "    t1 = %timeit -r 3 -n 5 -o main.secant(0, 1, main.fun, 10e-10, 1)\n",
    "    t.append(t1.average)\n",
    "    blad.append(t1.stdev)\n",
    "\n",
    "plt.scatter(it, t)\n",
    "plt.title(\"czas obliczeń w zalezności od iteracji\")\n",
    "plt.grid()\n",
    "plt.show()"
   ]
  },
  {
   "cell_type": "code",
   "execution_count": 17,
   "metadata": {},
   "outputs": [
    {
     "name": "stdout",
     "output_type": "stream",
     "text": [
      "(-9.191619259508066e-11, 3)\n",
      "(0.9165625831138303, 4)\n"
     ]
    }
   ],
   "source": [
    "x_zer = main.newton(main.fun, main.dfun, main.ddfun, -0.5, 0.2, 10e-10, i)\n",
    "x_zer_2 = main.newton(main.fun, main.dfun, main.ddfun, 0.5, 1, 10e-10, i)\n",
    "print(x_zer)\n",
    "print(x_zer_2)"
   ]
  },
  {
   "cell_type": "code",
   "execution_count": 11,
   "metadata": {},
   "outputs": [
    {
     "name": "stdout",
     "output_type": "stream",
     "text": [
      "65.8 µs ± 9.59 µs per loop (mean ± std. dev. of 3 runs, 5 loops each)\n",
      "34 µs ± 4.97 µs per loop (mean ± std. dev. of 3 runs, 5 loops each)\n",
      "37.6 µs ± 9.29 µs per loop (mean ± std. dev. of 3 runs, 5 loops each)\n",
      "35.7 µs ± 6.56 µs per loop (mean ± std. dev. of 3 runs, 5 loops each)\n",
      "59.6 µs ± 34 µs per loop (mean ± std. dev. of 3 runs, 5 loops each)\n"
     ]
    },
    {
     "data": {
      "image/png": "[encoded data removed]",
      "text/plain": [
       "<Figure size 432x288 with 1 Axes>"
      ]
     },
     "metadata": {
      "needs_background": "light"
     },
     "output_type": "display_data"
    }
   ],
   "source": [
    "it = [10, 20, 40, 80, 100]\n",
    "blad = []\n",
    "t = []\n",
    "for i in it:\n",
    "    t1 = %timeit -r 3 -n 5 -o x_zer = main.newton(main.fun, main.dfun, main.ddfun, 0, 1, 10e-10, 1)\n",
    "    t.append(t1.average)\n",
    "    blad.append(t1.stdev)\n",
    "\n",
    "plt.scatter(it, t)\n",
    "plt.title(\"czas obliczeń w zalezności od iteracji\")\n",
    "plt.grid()\n",
    "plt.show()"
   ]
  }
 ],
 "metadata": {
  "interpreter": {
   "hash": "4f439f54000aac12576396226848bc0cfebd1b4e45a8747663ceeee7e3c8f8f6"
  },
  "kernelspec": {
   "display_name": "Python 3.9.9 64-bit (windows store)",
   "name": "python3"
  },
  "language_info": {
   "codemirror_mode": {
    "name": "ipython",
    "version": 3
   },
   "file_extension": ".py",
   "mimetype": "text/x-python",
   "name": "python",
   "nbconvert_exporter": "python",
   "pygments_lexer": "ipython3",
   "version": "3.9.9"
  }
 },
 "nbformat": 4,
 "nbformat_minor": 2
}
